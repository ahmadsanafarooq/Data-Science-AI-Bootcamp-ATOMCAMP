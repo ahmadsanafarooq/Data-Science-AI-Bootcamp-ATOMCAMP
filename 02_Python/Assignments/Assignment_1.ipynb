{
 "cells": [
  {
   "cell_type": "markdown",
   "id": "7f8112bc",
   "metadata": {},
   "source": [
    "Problem:\n",
    "Given a list of integers, return the largest difference between any two elements, where the\n",
    "larger element appears after the smaller one. If no such pair exists, return 0."
   ]
  },
  {
   "cell_type": "code",
   "execution_count": null,
   "id": "30389e56",
   "metadata": {},
   "outputs": [
    {
     "data": {
      "text/plain": [
       "109"
      ]
     },
     "execution_count": 4,
     "metadata": {},
     "output_type": "execute_result"
    }
   ],
   "source": [
    "def max_difference(list):\n",
    "# find how many numbers are in the list\n",
    "    n = len(list)\n",
    " # store the largest difference found so far (start with 0)\n",
    "    max_diff = 0\n",
    "    for i in range(n):              # pick first number\n",
    "        for j in range(i+1, n):     # pick second number (after i)\n",
    "            if list[j] > list[i]:\n",
    "                diff = list[j] - list[i] ## calculate the difference\n",
    "                # If this difference is larger than the max found so far, update it\n",
    "                if diff > max_diff: \n",
    "                    max_diff = diff\n",
    "    return max_diff\n",
    "list=[1, 2, 90, 10, 110]\n",
    "max_difference(list)"
   ]
  },
  {
   "cell_type": "markdown",
   "id": "e6b2ab97",
   "metadata": {},
   "source": [
    "Problem:\n",
    "Given a string, return the first non-repeating character. If there are no non-repeating\n",
    "characters, return None."
   ]
  },
  {
   "cell_type": "code",
   "execution_count": 7,
   "id": "c92ed2c2",
   "metadata": {},
   "outputs": [
    {
     "data": {
      "text/plain": [
       "'c'"
      ]
     },
     "execution_count": 7,
     "metadata": {},
     "output_type": "execute_result"
    }
   ],
   "source": [
    "def first_non_repeating_char(s):\n",
    "    # loop through each character\n",
    "    for ch in s:\n",
    "        # count how many times it appears in the string\n",
    "        if s.count(ch) == 1:   # if it appears only once\n",
    "            return ch\n",
    "    return None   # if all characters repeat\n",
    "string=input(\"Enter a string \")\n",
    "first_non_repeating_char(string)"
   ]
  },
  {
   "cell_type": "markdown",
   "id": "79dbbbe6",
   "metadata": {},
   "source": [
    "Problem:\n",
    "Given two strings, write a function to check if one is a permutation of the other. Return True\n",
    "if they are permutations, False otherwise."
   ]
  },
  {
   "cell_type": "code",
   "execution_count": 8,
   "id": "263be1cb",
   "metadata": {},
   "outputs": [
    {
     "name": "stdout",
     "output_type": "stream",
     "text": [
      "True\n"
     ]
    }
   ],
   "source": [
    "# Function to check if two strings are permutations of each other\n",
    "def is_permutation(s1, s2):\n",
    "    # Step 1: If lengths are different, they cannot be permutations\n",
    "    if len(s1) != len(s2):\n",
    "        return False\n",
    "    \n",
    "    # Step 2: Sort both strings\n",
    "    sorted_s1 = sorted(s1)   \n",
    "    sorted_s2 = sorted(s2)  \n",
    "    \n",
    "    # Step 3: Compare sorted versions\n",
    "    return sorted_s1 == sorted_s2\n",
    "\n",
    "\n",
    "# Example tests\n",
    "print(is_permutation(\"abc\", \"bca\"))"
   ]
  },
  {
   "cell_type": "markdown",
   "id": "a73c3275",
   "metadata": {},
   "source": [
    "Problem:\n",
    "Given a list of integers, return the second largest unique number. If no second largest unique\n",
    "number exists, return None."
   ]
  },
  {
   "cell_type": "code",
   "execution_count": 1,
   "id": "00b25dae",
   "metadata": {},
   "outputs": [
    {
     "name": "stdout",
     "output_type": "stream",
     "text": [
      "6\n"
     ]
    }
   ],
   "source": [
    "def second_largest_unique(nums):\n",
    "    # Convert to set to remove duplicates, then back to list\n",
    "    unique_nums = list(set(nums))\n",
    "    \n",
    "    # If there are less than 2 unique numbers, return None\n",
    "    if len(unique_nums) < 2:\n",
    "        return None\n",
    "    \n",
    "    # Sort numbers\n",
    "    unique_nums.sort()\n",
    "    \n",
    "    # Return second largest\n",
    "    return unique_nums[-2]\n",
    "\n",
    "\n",
    "# Example\n",
    "nums = [4, 5, 6, 6, 7]\n",
    "print(second_largest_unique(nums))"
   ]
  },
  {
   "cell_type": "markdown",
   "id": "134bfb65",
   "metadata": {},
   "source": [
    "Problem:\n",
    "Given a list of integers and a target sum, count how many distinct pairs of integers in the list\n",
    "sum up to the target."
   ]
  },
  {
   "cell_type": "code",
   "execution_count": null,
   "id": "699ec6af",
   "metadata": {},
   "outputs": [
    {
     "name": "stdout",
     "output_type": "stream",
     "text": [
      "2\n"
     ]
    }
   ],
   "source": [
    "def count_pairs(nums, target):\n",
    "    seen = set()       # store numbers we have seen\n",
    "    pairs = set()      # store unique pairs\n",
    "\n",
    "    for num in nums:\n",
    "        complement = target - num\n",
    "        if complement in seen:\n",
    "            # store pair in sorted order to avoid duplicates\n",
    "            pairs.add(tuple(sorted((num, complement))))\n",
    "        seen.add(num)\n",
    "    \n",
    "    return len(pairs)\n",
    "\n",
    "\n",
    "\n",
    "nums = [1, 2, 3, 4, 3, 6]\n",
    "target = 6\n",
    "print(count_pairs(nums, target))  "
   ]
  },
  {
   "cell_type": "markdown",
   "id": "e29ceb2e",
   "metadata": {},
   "source": [
    "Problem:\n",
    "Given a list of integers, remove all duplicates while maintaining the order of their first\n",
    "occurrence."
   ]
  },
  {
   "cell_type": "code",
   "execution_count": null,
   "id": "fc8139de",
   "metadata": {},
   "outputs": [
    {
     "name": "stdout",
     "output_type": "stream",
     "text": [
      "[1, 2, 3, 4, 5]\n"
     ]
    }
   ],
   "source": [
    "def remove_duplicates(nums):\n",
    "    seen = set()     # to track numbers we already added\n",
    "    result = []      # final list without duplicates\n",
    "\n",
    "    for num in nums:\n",
    "        if num not in seen:   # if seeing the number for the first time\n",
    "            result.append(num)\n",
    "            seen.add(num)     # mark it as seen\n",
    "    return result\n",
    "\n",
    "\n",
    "nums = [1, 2, 2, 3, 4, 5, 1]\n",
    "print(remove_duplicates(nums)) "
   ]
  },
  {
   "cell_type": "markdown",
   "id": "8d6e64ef",
   "metadata": {},
   "source": [
    "Problem:\n",
    "Given a list of integers, return all possible subsets (the power set) of the list."
   ]
  },
  {
   "cell_type": "code",
   "execution_count": 4,
   "id": "b53c299a",
   "metadata": {},
   "outputs": [
    {
     "name": "stdout",
     "output_type": "stream",
     "text": [
      "[[], [1], [1, 2], [1, 2, 3], [1, 3], [2], [2, 3], [3]]\n"
     ]
    }
   ],
   "source": [
    "def subsets(nums):\n",
    "    result = []\n",
    "    \n",
    "    def backtrack(start, current):\n",
    "        # add current subset to result\n",
    "        result.append(current[:])\n",
    "        \n",
    "        # explore further elements\n",
    "        for i in range(start, len(nums)):\n",
    "            current.append(nums[i])\n",
    "            backtrack(i + 1, current)\n",
    "            current.pop()  # undo (backtrack)\n",
    "    \n",
    "    backtrack(0, [])\n",
    "    return result\n",
    "\n",
    "\n",
    "nums = [1, 2, 3]\n",
    "print(subsets(nums))"
   ]
  },
  {
   "cell_type": "markdown",
   "id": "11046909",
   "metadata": {},
   "source": [
    "Problem:\n",
    "Given a list of integers, find the length of the longest subsequence of strictly increasing\n",
    "elements."
   ]
  },
  {
   "cell_type": "code",
   "execution_count": 5,
   "id": "2fdd7838",
   "metadata": {},
   "outputs": [
    {
     "name": "stdout",
     "output_type": "stream",
     "text": [
      "4\n"
     ]
    }
   ],
   "source": [
    "def length_of_LIS(nums):\n",
    "    if not nums:\n",
    "        return 0\n",
    "    \n",
    "    n = len(nums)\n",
    "    dp = [1] * n   # dp[i] = length of LIS ending at index i\n",
    "    \n",
    "    for i in range(n):\n",
    "        for j in range(i):\n",
    "            if nums[j] < nums[i]:   # increasing condition\n",
    "                dp[i] = max(dp[i], dp[j] + 1)\n",
    "    \n",
    "    return max(dp)\n",
    "nums = [10, 9, 2, 5, 3, 7, 101, 18]\n",
    "print(length_of_LIS(nums))"
   ]
  },
  {
   "cell_type": "markdown",
   "id": "db462390",
   "metadata": {},
   "source": [
    "Problem:\n",
    "Given a list of integers, return the maximum product of any two numbers in the list."
   ]
  },
  {
   "cell_type": "code",
   "execution_count": 6,
   "id": "fd83e97b",
   "metadata": {},
   "outputs": [
    {
     "name": "stdout",
     "output_type": "stream",
     "text": [
      "1000\n"
     ]
    }
   ],
   "source": [
    "def max_product(nums):\n",
    "    nums.sort()\n",
    "    \n",
    "    # Product of two largest numbers\n",
    "    prod1 = nums[-1] * nums[-2]\n",
    "    \n",
    "    # Product of two smallest numbers (might be large if both are negative)\n",
    "    prod2 = nums[0] * nums[1]\n",
    "    \n",
    "    return max(prod1, prod2)\n",
    "\n",
    "nums = [1, 10, -5, 1, 100]\n",
    "print(max_product(nums)) "
   ]
  },
  {
   "cell_type": "markdown",
   "id": "7808e06d",
   "metadata": {},
   "source": [
    "Problem:\n",
    "Given a string, return the character that appears most frequently. If there is a tie, return the\n",
    "lexicographically smallest character."
   ]
  },
  {
   "cell_type": "code",
   "execution_count": null,
   "id": "66484a93",
   "metadata": {},
   "outputs": [
    {
     "name": "stdout",
     "output_type": "stream",
     "text": [
      "b\n"
     ]
    }
   ],
   "source": [
    "def most_frequent_char(s):\n",
    "    freq = {}\n",
    "    \n",
    "    # Count frequencies\n",
    "    for ch in s:\n",
    "        freq[ch] = freq.get(ch, 0) + 1\n",
    "    \n",
    "    # Find max frequency\n",
    "    max_freq = max(freq.values())\n",
    "    \n",
    "    # Collect characters with max frequency\n",
    "    candidates = [ch for ch, count in freq.items() if count == max_freq]\n",
    "    \n",
    "    # Return lexicographically smallest\n",
    "    return min(candidates)\n",
    "\n",
    "s = \"aabbbc\"\n",
    "print(most_frequent_char(s)) "
   ]
  },
  {
   "cell_type": "markdown",
   "id": "28ace2a1",
   "metadata": {},
   "source": [
    "Problem:\n",
    "Write a function that prints all prime numbers less than a given number n."
   ]
  },
  {
   "cell_type": "code",
   "execution_count": 8,
   "id": "94c7522e",
   "metadata": {},
   "outputs": [
    {
     "name": "stdout",
     "output_type": "stream",
     "text": [
      "2 3 5 7 "
     ]
    }
   ],
   "source": [
    "def print_primes(n):\n",
    "    # Loop through all numbers from 2 to n-1\n",
    "    for num in range(2, n):\n",
    "        is_prime = True\n",
    "        \n",
    "        # Check divisibility\n",
    "        for i in range(2, int(num**0.5) + 1):\n",
    "            if num % i == 0:\n",
    "                is_prime = False\n",
    "                break\n",
    "        \n",
    "        # If still prime, print it\n",
    "        if is_prime:\n",
    "            print(num, end=\" \")\n",
    "\n",
    "print_primes(10)"
   ]
  },
  {
   "cell_type": "markdown",
   "id": "4178f733",
   "metadata": {},
   "source": [
    "Problem:\n",
    "Write a function that takes a variable number of arguments (*args) and returns the sum of all\n",
    "the numbers."
   ]
  },
  {
   "cell_type": "code",
   "execution_count": 9,
   "id": "990a2719",
   "metadata": {},
   "outputs": [
    {
     "name": "stdout",
     "output_type": "stream",
     "text": [
      "9\n"
     ]
    }
   ],
   "source": [
    "def sum_numbers(*args):\n",
    "    total = 0\n",
    "    for num in args:\n",
    "        total += num\n",
    "    return total\n",
    "print(sum_numbers(2, 3, 4))"
   ]
  },
  {
   "cell_type": "markdown",
   "id": "4aa16442",
   "metadata": {},
   "source": [
    "Problem:\n",
    "Given a dictionary of students' names and their scores, write a function that returns the name of\n",
    "the student with the highest score."
   ]
  },
  {
   "cell_type": "code",
   "execution_count": 10,
   "id": "133802d9",
   "metadata": {},
   "outputs": [
    {
     "name": "stdout",
     "output_type": "stream",
     "text": [
      "Charlie\n"
     ]
    }
   ],
   "source": [
    "def top_student(scores):\n",
    "    # max() finds the key with the maximum value\n",
    "    return max(scores, key=scores.get)\n",
    "students = {\"Alice\": 85, \"Bob\": 90, \"Charlie\": 92}\n",
    "print(top_student(students)) "
   ]
  },
  {
   "cell_type": "markdown",
   "id": "63a95e11",
   "metadata": {},
   "source": [
    "Problem:\n",
    "Write a function that takes a list of integers and a lambda function, and returns a new list where\n",
    "the lambda function is applied to each element of the list."
   ]
  },
  {
   "cell_type": "code",
   "execution_count": 11,
   "id": "d009fe58",
   "metadata": {},
   "outputs": [
    {
     "name": "stdout",
     "output_type": "stream",
     "text": [
      "[1, 4, 9, 16]\n"
     ]
    }
   ],
   "source": [
    "def apply_lambda(lst, func):\n",
    "    # Apply the lambda function to each element\n",
    "    return [func(x) for x in lst]\n",
    "\n",
    "nums = [1, 2, 3, 4]\n",
    "result = apply_lambda(nums, lambda x: x ** 2)\n",
    "print(result)\n"
   ]
  },
  {
   "cell_type": "markdown",
   "id": "07bfd7cd",
   "metadata": {},
   "source": [
    "Problem:\n",
    "Write a function that takes a variable-length list of numbers (*args) and an optional keyword\n",
    "argument operation. If operation='multiply', return the product of all the numbers;\n",
    "otherwise, return their sum."
   ]
  },
  {
   "cell_type": "code",
   "execution_count": 14,
   "id": "8c2fc3ad",
   "metadata": {},
   "outputs": [
    {
     "name": "stdout",
     "output_type": "stream",
     "text": [
      "24\n"
     ]
    }
   ],
   "source": [
    "def calculate(*args, operation=\"sum\"):\n",
    "    if operation == \"multiply\":\n",
    "        result = 1\n",
    "        for num in args:\n",
    "            result *= num\n",
    "        return result\n",
    "    else:  # default = sum\n",
    "        return sum(args)\n",
    "#print(calculate(1, 2, 3, 4))                  \n",
    "print(calculate(1, 2, 3, 4, operation=\"multiply\")) \n"
   ]
  }
 ],
 "metadata": {
  "kernelspec": {
   "display_name": "Python 3",
   "language": "python",
   "name": "python3"
  },
  "language_info": {
   "codemirror_mode": {
    "name": "ipython",
    "version": 3
   },
   "file_extension": ".py",
   "mimetype": "text/x-python",
   "name": "python",
   "nbconvert_exporter": "python",
   "pygments_lexer": "ipython3",
   "version": "3.10.11"
  }
 },
 "nbformat": 4,
 "nbformat_minor": 5
}
