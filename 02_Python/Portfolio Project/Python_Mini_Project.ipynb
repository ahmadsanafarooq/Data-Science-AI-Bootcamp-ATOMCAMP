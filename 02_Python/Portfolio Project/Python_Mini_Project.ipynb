{
  "nbformat": 4,
  "nbformat_minor": 0,
  "metadata": {
    "colab": {
      "provenance": []
    },
    "kernelspec": {
      "name": "python3",
      "display_name": "Python 3"
    },
    "language_info": {
      "name": "python"
    }
  },
  "cells": [
    {
      "cell_type": "markdown",
      "source": [
        "<p align=\"center\">\n",
        "  <img src=\"https://img.shields.io/badge/atomcamp-green?style=for-the-badge&logo=python&logoColor=white\">\n",
        "</p>\n",
        "\n"
      ],
      "metadata": {
        "id": "YPYGe-10azQT"
      }
    },
    {
      "cell_type": "markdown",
      "source": [
        ">  **Python Mini-Project: Space Mission Control**  \n",
        "> **Scenario:**  \n",
        "> You’re working as a Python developer for Intergalactic Space Mission Control (ISMC).  \n",
        "> Your job is to write Python programs to help astronauts and engineers track their missions, crew details,  \n",
        "> and spaceship performance using the given dataset (space_missions.csv).  \n",
        "> This project will test your knowledge of Python basics, data structures, control flow, functions,  \n",
        "> and exception handling.\n"
      ],
      "metadata": {
        "id": "yG6BowJUYEBd"
      }
    },
    {
      "cell_type": "markdown",
      "source": [
        ">  **Instructions**  \n",
        ">  Work in **Google Colab** or **Jupyter Notebook**.  \n",
        ">  Use the provided file **space_missions.csv**.  \n",
        ">  Answer all **20 questions** below.  \n",
        ">  Add **comments** in your code explaining each step.  \n",
        ">  Submit the **.ipynb** file once completed.  \n"
      ],
      "metadata": {
        "id": "a05Pcpq2aJhD"
      }
    },
    {
      "cell_type": "code",
      "source": [
        "import pandas as pd"
      ],
      "metadata": {
        "id": "fSsMpeZOcGDJ"
      },
      "execution_count": 2,
      "outputs": []
    },
    {
      "cell_type": "code",
      "source": [
        "data=pd.read_csv(\"/content/space_missions.csv\")"
      ],
      "metadata": {
        "id": "nBJsBwSYcIAZ"
      },
      "execution_count": 3,
      "outputs": []
    },
    {
      "cell_type": "code",
      "source": [
        "data.head()"
      ],
      "metadata": {
        "colab": {
          "base_uri": "https://localhost:8080/",
          "height": 206
        },
        "id": "1vBVW0GJcOJM",
        "outputId": "c9723774-acd3-4733-adda-77c864a6d576"
      },
      "execution_count": 4,
      "outputs": [
        {
          "output_type": "execute_result",
          "data": {
            "text/plain": [
              "   mission_id   mission_name  crew_count destination  duration_days  success  \\\n",
              "0           1    Orion-Alpha           5        Moon             12     True   \n",
              "1           2       Apollo-X           3        Mars            340    False   \n",
              "2           3  Voyager-Pulse           6         ISS             45     True   \n",
              "3           4         Nova-7           4     Jupiter            720    False   \n",
              "4           5      Luna-Hope           2        Moon             14     True   \n",
              "\n",
              "   fuel_level      commander  year  \n",
              "0        78.4    Amelia Vega  2005  \n",
              "1        12.7    Liam Carter  2010  \n",
              "2        54.2    Noah Hassan  2018  \n",
              "3         0.0  Ayesha Rahman  2021  \n",
              "4        65.8   Sophia Malik  2012  "
            ],
            "text/html": [
              "\n",
              "  <div id=\"df-6b56e2f7-0e8f-4cc5-a26c-d799b5bad08e\" class=\"colab-df-container\">\n",
              "    <div>\n",
              "<style scoped>\n",
              "    .dataframe tbody tr th:only-of-type {\n",
              "        vertical-align: middle;\n",
              "    }\n",
              "\n",
              "    .dataframe tbody tr th {\n",
              "        vertical-align: top;\n",
              "    }\n",
              "\n",
              "    .dataframe thead th {\n",
              "        text-align: right;\n",
              "    }\n",
              "</style>\n",
              "<table border=\"1\" class=\"dataframe\">\n",
              "  <thead>\n",
              "    <tr style=\"text-align: right;\">\n",
              "      <th></th>\n",
              "      <th>mission_id</th>\n",
              "      <th>mission_name</th>\n",
              "      <th>crew_count</th>\n",
              "      <th>destination</th>\n",
              "      <th>duration_days</th>\n",
              "      <th>success</th>\n",
              "      <th>fuel_level</th>\n",
              "      <th>commander</th>\n",
              "      <th>year</th>\n",
              "    </tr>\n",
              "  </thead>\n",
              "  <tbody>\n",
              "    <tr>\n",
              "      <th>0</th>\n",
              "      <td>1</td>\n",
              "      <td>Orion-Alpha</td>\n",
              "      <td>5</td>\n",
              "      <td>Moon</td>\n",
              "      <td>12</td>\n",
              "      <td>True</td>\n",
              "      <td>78.4</td>\n",
              "      <td>Amelia Vega</td>\n",
              "      <td>2005</td>\n",
              "    </tr>\n",
              "    <tr>\n",
              "      <th>1</th>\n",
              "      <td>2</td>\n",
              "      <td>Apollo-X</td>\n",
              "      <td>3</td>\n",
              "      <td>Mars</td>\n",
              "      <td>340</td>\n",
              "      <td>False</td>\n",
              "      <td>12.7</td>\n",
              "      <td>Liam Carter</td>\n",
              "      <td>2010</td>\n",
              "    </tr>\n",
              "    <tr>\n",
              "      <th>2</th>\n",
              "      <td>3</td>\n",
              "      <td>Voyager-Pulse</td>\n",
              "      <td>6</td>\n",
              "      <td>ISS</td>\n",
              "      <td>45</td>\n",
              "      <td>True</td>\n",
              "      <td>54.2</td>\n",
              "      <td>Noah Hassan</td>\n",
              "      <td>2018</td>\n",
              "    </tr>\n",
              "    <tr>\n",
              "      <th>3</th>\n",
              "      <td>4</td>\n",
              "      <td>Nova-7</td>\n",
              "      <td>4</td>\n",
              "      <td>Jupiter</td>\n",
              "      <td>720</td>\n",
              "      <td>False</td>\n",
              "      <td>0.0</td>\n",
              "      <td>Ayesha Rahman</td>\n",
              "      <td>2021</td>\n",
              "    </tr>\n",
              "    <tr>\n",
              "      <th>4</th>\n",
              "      <td>5</td>\n",
              "      <td>Luna-Hope</td>\n",
              "      <td>2</td>\n",
              "      <td>Moon</td>\n",
              "      <td>14</td>\n",
              "      <td>True</td>\n",
              "      <td>65.8</td>\n",
              "      <td>Sophia Malik</td>\n",
              "      <td>2012</td>\n",
              "    </tr>\n",
              "  </tbody>\n",
              "</table>\n",
              "</div>\n",
              "    <div class=\"colab-df-buttons\">\n",
              "\n",
              "  <div class=\"colab-df-container\">\n",
              "    <button class=\"colab-df-convert\" onclick=\"convertToInteractive('df-6b56e2f7-0e8f-4cc5-a26c-d799b5bad08e')\"\n",
              "            title=\"Convert this dataframe to an interactive table.\"\n",
              "            style=\"display:none;\">\n",
              "\n",
              "  <svg xmlns=\"http://www.w3.org/2000/svg\" height=\"24px\" viewBox=\"0 -960 960 960\">\n",
              "    <path d=\"M120-120v-720h720v720H120Zm60-500h600v-160H180v160Zm220 220h160v-160H400v160Zm0 220h160v-160H400v160ZM180-400h160v-160H180v160Zm440 0h160v-160H620v160ZM180-180h160v-160H180v160Zm440 0h160v-160H620v160Z\"/>\n",
              "  </svg>\n",
              "    </button>\n",
              "\n",
              "  <style>\n",
              "    .colab-df-container {\n",
              "      display:flex;\n",
              "      gap: 12px;\n",
              "    }\n",
              "\n",
              "    .colab-df-convert {\n",
              "      background-color: #E8F0FE;\n",
              "      border: none;\n",
              "      border-radius: 50%;\n",
              "      cursor: pointer;\n",
              "      display: none;\n",
              "      fill: #1967D2;\n",
              "      height: 32px;\n",
              "      padding: 0 0 0 0;\n",
              "      width: 32px;\n",
              "    }\n",
              "\n",
              "    .colab-df-convert:hover {\n",
              "      background-color: #E2EBFA;\n",
              "      box-shadow: 0px 1px 2px rgba(60, 64, 67, 0.3), 0px 1px 3px 1px rgba(60, 64, 67, 0.15);\n",
              "      fill: #174EA6;\n",
              "    }\n",
              "\n",
              "    .colab-df-buttons div {\n",
              "      margin-bottom: 4px;\n",
              "    }\n",
              "\n",
              "    [theme=dark] .colab-df-convert {\n",
              "      background-color: #3B4455;\n",
              "      fill: #D2E3FC;\n",
              "    }\n",
              "\n",
              "    [theme=dark] .colab-df-convert:hover {\n",
              "      background-color: #434B5C;\n",
              "      box-shadow: 0px 1px 3px 1px rgba(0, 0, 0, 0.15);\n",
              "      filter: drop-shadow(0px 1px 2px rgba(0, 0, 0, 0.3));\n",
              "      fill: #FFFFFF;\n",
              "    }\n",
              "  </style>\n",
              "\n",
              "    <script>\n",
              "      const buttonEl =\n",
              "        document.querySelector('#df-6b56e2f7-0e8f-4cc5-a26c-d799b5bad08e button.colab-df-convert');\n",
              "      buttonEl.style.display =\n",
              "        google.colab.kernel.accessAllowed ? 'block' : 'none';\n",
              "\n",
              "      async function convertToInteractive(key) {\n",
              "        const element = document.querySelector('#df-6b56e2f7-0e8f-4cc5-a26c-d799b5bad08e');\n",
              "        const dataTable =\n",
              "          await google.colab.kernel.invokeFunction('convertToInteractive',\n",
              "                                                    [key], {});\n",
              "        if (!dataTable) return;\n",
              "\n",
              "        const docLinkHtml = 'Like what you see? Visit the ' +\n",
              "          '<a target=\"_blank\" href=https://colab.research.google.com/notebooks/data_table.ipynb>data table notebook</a>'\n",
              "          + ' to learn more about interactive tables.';\n",
              "        element.innerHTML = '';\n",
              "        dataTable['output_type'] = 'display_data';\n",
              "        await google.colab.output.renderOutput(dataTable, element);\n",
              "        const docLink = document.createElement('div');\n",
              "        docLink.innerHTML = docLinkHtml;\n",
              "        element.appendChild(docLink);\n",
              "      }\n",
              "    </script>\n",
              "  </div>\n",
              "\n",
              "\n",
              "    <div id=\"df-2a44f6f3-cd36-4829-b7de-7432ae88f952\">\n",
              "      <button class=\"colab-df-quickchart\" onclick=\"quickchart('df-2a44f6f3-cd36-4829-b7de-7432ae88f952')\"\n",
              "                title=\"Suggest charts\"\n",
              "                style=\"display:none;\">\n",
              "\n",
              "<svg xmlns=\"http://www.w3.org/2000/svg\" height=\"24px\"viewBox=\"0 0 24 24\"\n",
              "     width=\"24px\">\n",
              "    <g>\n",
              "        <path d=\"M19 3H5c-1.1 0-2 .9-2 2v14c0 1.1.9 2 2 2h14c1.1 0 2-.9 2-2V5c0-1.1-.9-2-2-2zM9 17H7v-7h2v7zm4 0h-2V7h2v10zm4 0h-2v-4h2v4z\"/>\n",
              "    </g>\n",
              "</svg>\n",
              "      </button>\n",
              "\n",
              "<style>\n",
              "  .colab-df-quickchart {\n",
              "      --bg-color: #E8F0FE;\n",
              "      --fill-color: #1967D2;\n",
              "      --hover-bg-color: #E2EBFA;\n",
              "      --hover-fill-color: #174EA6;\n",
              "      --disabled-fill-color: #AAA;\n",
              "      --disabled-bg-color: #DDD;\n",
              "  }\n",
              "\n",
              "  [theme=dark] .colab-df-quickchart {\n",
              "      --bg-color: #3B4455;\n",
              "      --fill-color: #D2E3FC;\n",
              "      --hover-bg-color: #434B5C;\n",
              "      --hover-fill-color: #FFFFFF;\n",
              "      --disabled-bg-color: #3B4455;\n",
              "      --disabled-fill-color: #666;\n",
              "  }\n",
              "\n",
              "  .colab-df-quickchart {\n",
              "    background-color: var(--bg-color);\n",
              "    border: none;\n",
              "    border-radius: 50%;\n",
              "    cursor: pointer;\n",
              "    display: none;\n",
              "    fill: var(--fill-color);\n",
              "    height: 32px;\n",
              "    padding: 0;\n",
              "    width: 32px;\n",
              "  }\n",
              "\n",
              "  .colab-df-quickchart:hover {\n",
              "    background-color: var(--hover-bg-color);\n",
              "    box-shadow: 0 1px 2px rgba(60, 64, 67, 0.3), 0 1px 3px 1px rgba(60, 64, 67, 0.15);\n",
              "    fill: var(--button-hover-fill-color);\n",
              "  }\n",
              "\n",
              "  .colab-df-quickchart-complete:disabled,\n",
              "  .colab-df-quickchart-complete:disabled:hover {\n",
              "    background-color: var(--disabled-bg-color);\n",
              "    fill: var(--disabled-fill-color);\n",
              "    box-shadow: none;\n",
              "  }\n",
              "\n",
              "  .colab-df-spinner {\n",
              "    border: 2px solid var(--fill-color);\n",
              "    border-color: transparent;\n",
              "    border-bottom-color: var(--fill-color);\n",
              "    animation:\n",
              "      spin 1s steps(1) infinite;\n",
              "  }\n",
              "\n",
              "  @keyframes spin {\n",
              "    0% {\n",
              "      border-color: transparent;\n",
              "      border-bottom-color: var(--fill-color);\n",
              "      border-left-color: var(--fill-color);\n",
              "    }\n",
              "    20% {\n",
              "      border-color: transparent;\n",
              "      border-left-color: var(--fill-color);\n",
              "      border-top-color: var(--fill-color);\n",
              "    }\n",
              "    30% {\n",
              "      border-color: transparent;\n",
              "      border-left-color: var(--fill-color);\n",
              "      border-top-color: var(--fill-color);\n",
              "      border-right-color: var(--fill-color);\n",
              "    }\n",
              "    40% {\n",
              "      border-color: transparent;\n",
              "      border-right-color: var(--fill-color);\n",
              "      border-top-color: var(--fill-color);\n",
              "    }\n",
              "    60% {\n",
              "      border-color: transparent;\n",
              "      border-right-color: var(--fill-color);\n",
              "    }\n",
              "    80% {\n",
              "      border-color: transparent;\n",
              "      border-right-color: var(--fill-color);\n",
              "      border-bottom-color: var(--fill-color);\n",
              "    }\n",
              "    90% {\n",
              "      border-color: transparent;\n",
              "      border-bottom-color: var(--fill-color);\n",
              "    }\n",
              "  }\n",
              "</style>\n",
              "\n",
              "      <script>\n",
              "        async function quickchart(key) {\n",
              "          const quickchartButtonEl =\n",
              "            document.querySelector('#' + key + ' button');\n",
              "          quickchartButtonEl.disabled = true;  // To prevent multiple clicks.\n",
              "          quickchartButtonEl.classList.add('colab-df-spinner');\n",
              "          try {\n",
              "            const charts = await google.colab.kernel.invokeFunction(\n",
              "                'suggestCharts', [key], {});\n",
              "          } catch (error) {\n",
              "            console.error('Error during call to suggestCharts:', error);\n",
              "          }\n",
              "          quickchartButtonEl.classList.remove('colab-df-spinner');\n",
              "          quickchartButtonEl.classList.add('colab-df-quickchart-complete');\n",
              "        }\n",
              "        (() => {\n",
              "          let quickchartButtonEl =\n",
              "            document.querySelector('#df-2a44f6f3-cd36-4829-b7de-7432ae88f952 button');\n",
              "          quickchartButtonEl.style.display =\n",
              "            google.colab.kernel.accessAllowed ? 'block' : 'none';\n",
              "        })();\n",
              "      </script>\n",
              "    </div>\n",
              "\n",
              "    </div>\n",
              "  </div>\n"
            ],
            "application/vnd.google.colaboratory.intrinsic+json": {
              "type": "dataframe",
              "variable_name": "data",
              "summary": "{\n  \"name\": \"data\",\n  \"rows\": 300,\n  \"fields\": [\n    {\n      \"column\": \"mission_id\",\n      \"properties\": {\n        \"dtype\": \"number\",\n        \"std\": 86,\n        \"min\": 1,\n        \"max\": 300,\n        \"num_unique_values\": 300,\n        \"samples\": [\n          204,\n          267,\n          153\n        ],\n        \"semantic_type\": \"\",\n        \"description\": \"\"\n      }\n    },\n    {\n      \"column\": \"mission_name\",\n      \"properties\": {\n        \"dtype\": \"string\",\n        \"num_unique_values\": 300,\n        \"samples\": [\n          \"Nova-17\",\n          \"Aurora-N\",\n          \"Orion-Xi\"\n        ],\n        \"semantic_type\": \"\",\n        \"description\": \"\"\n      }\n    },\n    {\n      \"column\": \"crew_count\",\n      \"properties\": {\n        \"dtype\": \"number\",\n        \"std\": 2,\n        \"min\": 0,\n        \"max\": 8,\n        \"num_unique_values\": 9,\n        \"samples\": [\n          8,\n          3,\n          0\n        ],\n        \"semantic_type\": \"\",\n        \"description\": \"\"\n      }\n    },\n    {\n      \"column\": \"destination\",\n      \"properties\": {\n        \"dtype\": \"category\",\n        \"num_unique_values\": 6,\n        \"samples\": [\n          \"Moon\",\n          \"Mars\",\n          \"Venus\"\n        ],\n        \"semantic_type\": \"\",\n        \"description\": \"\"\n      }\n    },\n    {\n      \"column\": \"duration_days\",\n      \"properties\": {\n        \"dtype\": \"number\",\n        \"std\": 257,\n        \"min\": 10,\n        \"max\": 800,\n        \"num_unique_values\": 65,\n        \"samples\": [\n          50,\n          690,\n          12\n        ],\n        \"semantic_type\": \"\",\n        \"description\": \"\"\n      }\n    },\n    {\n      \"column\": \"success\",\n      \"properties\": {\n        \"dtype\": \"boolean\",\n        \"num_unique_values\": 2,\n        \"samples\": [\n          false,\n          true\n        ],\n        \"semantic_type\": \"\",\n        \"description\": \"\"\n      }\n    },\n    {\n      \"column\": \"fuel_level\",\n      \"properties\": {\n        \"dtype\": \"number\",\n        \"std\": 34.0474571593673,\n        \"min\": 0.0,\n        \"max\": 99.8,\n        \"num_unique_values\": 266,\n        \"samples\": [\n          76.6,\n          15.6\n        ],\n        \"semantic_type\": \"\",\n        \"description\": \"\"\n      }\n    },\n    {\n      \"column\": \"commander\",\n      \"properties\": {\n        \"dtype\": \"string\",\n        \"num_unique_values\": 244,\n        \"samples\": [\n          \"Jacob Thompson\",\n          \"Isabella Torres\"\n        ],\n        \"semantic_type\": \"\",\n        \"description\": \"\"\n      }\n    },\n    {\n      \"column\": \"year\",\n      \"properties\": {\n        \"dtype\": \"number\",\n        \"std\": 5,\n        \"min\": 2002,\n        \"max\": 2022,\n        \"num_unique_values\": 21,\n        \"samples\": [\n          2005,\n          2004\n        ],\n        \"semantic_type\": \"\",\n        \"description\": \"\"\n      }\n    }\n  ]\n}"
            }
          },
          "metadata": {},
          "execution_count": 4
        }
      ]
    },
    {
      "cell_type": "markdown",
      "source": [
        "<p align=\"center\">\n",
        "  <img src=\"https://img.shields.io/badge/Part%20A%3A-Python%20Foundations-blue?style=for-the-badge&logo=python&logoColor=white\">\n",
        "</p>\n"
      ],
      "metadata": {
        "id": "iCDiZ4GtbGXz"
      }
    },
    {
      "cell_type": "markdown",
      "source": [
        "> 1. Print a welcome message: **\"Welcome to ISMC Mission Control!\"**\n"
      ],
      "metadata": {
        "id": "uQKw7ptkbh8y"
      }
    },
    {
      "cell_type": "code",
      "source": [
        "print(\"Welcome to ISMC Mission Control\")"
      ],
      "metadata": {
        "colab": {
          "base_uri": "https://localhost:8080/",
          "height": 0
        },
        "id": "7G6o_6Zdbhxb",
        "outputId": "61d95a46-0d28-4d29-c07a-bf732fcde464"
      },
      "execution_count": 1,
      "outputs": [
        {
          "output_type": "stream",
          "name": "stdout",
          "text": [
            "Welcome to ISMC Mission Control\n"
          ]
        }
      ]
    },
    {
      "cell_type": "markdown",
      "source": [
        ">2. Store the number of missions in a variable and print it. **(Hint: count rows in the CSV.)**"
      ],
      "metadata": {
        "id": "RjdhgUAgb8h5"
      }
    },
    {
      "cell_type": "code",
      "source": [
        "number_of_mission=len(data)\n",
        "print(\"Number of missions:\",number_of_mission)"
      ],
      "metadata": {
        "colab": {
          "base_uri": "https://localhost:8080/",
          "height": 0
        },
        "id": "NBdAo8Q-bhdL",
        "outputId": "cee1cc13-b5d9-4993-bf19-43b4623d4d17"
      },
      "execution_count": 7,
      "outputs": [
        {
          "output_type": "stream",
          "name": "stdout",
          "text": [
            "Number of missions: 300\n"
          ]
        }
      ]
    },
    {
      "cell_type": "markdown",
      "source": [
        "> 3. Ask the user to input a destination **(e.g., \"Moon\")** and print a message like: **\"Searching missions to Moon...\"**"
      ],
      "metadata": {
        "id": "pT3i2uaec-Du"
      }
    },
    {
      "cell_type": "code",
      "source": [
        "destination=input(\"Enter Destination e.g Moon \")\n",
        "print(f\"Searching Mission to {destination}...\")"
      ],
      "metadata": {
        "colab": {
          "base_uri": "https://localhost:8080/",
          "height": 0
        },
        "id": "NcjztDglbhX7",
        "outputId": "a3d5f6e4-b3dc-46f3-e3da-c96f40186268"
      },
      "execution_count": 11,
      "outputs": [
        {
          "output_type": "stream",
          "name": "stdout",
          "text": [
            "Enter Destination e.g Moon Mars\n",
            "Searching Mission to Mars...\n"
          ]
        }
      ]
    },
    {
      "cell_type": "markdown",
      "source": [
        "> 4. Calculate the **average duration of all missions** and print it."
      ],
      "metadata": {
        "id": "4IZ9_qUFdaLZ"
      }
    },
    {
      "cell_type": "code",
      "source": [
        "average_duration_of_all_mission=data[\"duration_days\"].mean()\n",
        "print(\"Average Duration of All Mission:\",average_duration_of_all_mission)"
      ],
      "metadata": {
        "colab": {
          "base_uri": "https://localhost:8080/",
          "height": 0
        },
        "id": "OPtMY_JBbhR8",
        "outputId": "b14b3919-3544-4a42-fdbe-0d732d69bf68"
      },
      "execution_count": 13,
      "outputs": [
        {
          "output_type": "stream",
          "name": "stdout",
          "text": [
            "Average Duration of All Mission: 265.28333333333336\n"
          ]
        }
      ]
    },
    {
      "cell_type": "markdown",
      "source": [
        "> 5. Check if the number of missions to Mars is greater than missions to the Moon. Print **True or False.**"
      ],
      "metadata": {
        "id": "tnFkMQIEdvIQ"
      }
    },
    {
      "cell_type": "code",
      "source": [
        "mars_mission=data[data[\"destination\"]==\"Mars\"].sum()\n",
        "moon_mission=data[data[\"destination\"]==\"Moon\"].sum()\n",
        "print(mars_mission>moon_mission)"
      ],
      "metadata": {
        "colab": {
          "base_uri": "https://localhost:8080/",
          "height": 0
        },
        "id": "USi9VnJhbhKN",
        "outputId": "c917e042-44c4-4a05-da19-b9d15980b9bc"
      },
      "execution_count": 14,
      "outputs": [
        {
          "output_type": "stream",
          "name": "stdout",
          "text": [
            "mission_id       False\n",
            "mission_name     False\n",
            "crew_count       False\n",
            "destination      False\n",
            "duration_days     True\n",
            "success          False\n",
            "fuel_level       False\n",
            "commander         True\n",
            "year             False\n",
            "dtype: bool\n"
          ]
        }
      ]
    },
    {
      "cell_type": "markdown",
      "source": [
        "<p align=\"center\">\n",
        "  <img src=\"https://img.shields.io/badge/Part%20B%3A-Data%20Structures%20%26%20Control%20Flow-orange?style=for-the-badge&logo=python&logoColor=white\">\n",
        "</p>\n"
      ],
      "metadata": {
        "id": "rrmAgTJ6bMAJ"
      }
    },
    {
      "cell_type": "markdown",
      "source": [
        "> 6. Create a list of all unique destinations and print it."
      ],
      "metadata": {
        "id": "wZq0q6QqesoY"
      }
    },
    {
      "cell_type": "code",
      "source": [
        "destination_list=data[\"destination\"].unique().tolist()\n",
        "print(destination_list)"
      ],
      "metadata": {
        "colab": {
          "base_uri": "https://localhost:8080/",
          "height": 0
        },
        "id": "Hxruzh5afHqC",
        "outputId": "ece9f085-5ee4-4447-b061-db5e78ae61cd"
      },
      "execution_count": 19,
      "outputs": [
        {
          "output_type": "stream",
          "name": "stdout",
          "text": [
            "['Moon', 'Mars', 'ISS', 'Jupiter', 'Saturn', 'Venus']\n"
          ]
        }
      ]
    },
    {
      "cell_type": "markdown",
      "source": [
        "> 7. Use slicing to print the first 5 mission names."
      ],
      "metadata": {
        "id": "7j2UFUF1ewVl"
      }
    },
    {
      "cell_type": "code",
      "source": [
        "mission_names = data.loc[:4, \"mission_name\"]\n",
        "print(mission_names)"
      ],
      "metadata": {
        "colab": {
          "base_uri": "https://localhost:8080/",
          "height": 0
        },
        "id": "RWpZ-dwOfNGW",
        "outputId": "06da32ac-c602-41d6-bd1d-3d902ca5907b"
      },
      "execution_count": 20,
      "outputs": [
        {
          "output_type": "stream",
          "name": "stdout",
          "text": [
            "0      Orion-Alpha\n",
            "1         Apollo-X\n",
            "2    Voyager-Pulse\n",
            "3           Nova-7\n",
            "4        Luna-Hope\n",
            "Name: mission_name, dtype: object\n"
          ]
        }
      ]
    },
    {
      "cell_type": "markdown",
      "source": [
        "> 8. Use a dictionary to store mission name its assigned commander. Print the dictionary for the first 10 missions."
      ],
      "metadata": {
        "id": "HP6DaKoDe0Ss"
      }
    },
    {
      "cell_type": "code",
      "source": [
        "mission_commander_dict = dict(zip(data[\"mission_name\"].head(10), data[\"commander\"].head(10)))\n",
        "print(\"\\n Mission-Commander Mapping (First 10):\")\n",
        "print(mission_commander_dict)"
      ],
      "metadata": {
        "colab": {
          "base_uri": "https://localhost:8080/",
          "height": 0
        },
        "id": "bdHb2I7nf5GA",
        "outputId": "f7a6ed96-e963-4d37-f80f-523cdc11b017"
      },
      "execution_count": 21,
      "outputs": [
        {
          "output_type": "stream",
          "name": "stdout",
          "text": [
            "\n",
            " Mission-Commander Mapping (First 10):\n",
            "{'Orion-Alpha': 'Amelia Vega', 'Apollo-X': 'Liam Carter', 'Voyager-Pulse': 'Noah Hassan', 'Nova-7': 'Ayesha Rahman', 'Luna-Hope': 'Sophia Malik', 'Starlight-3': 'Ethan Kim', 'Aurora': 'Isabella Torres', 'Cosmo-9': 'Daniel Okoye', 'Gemini-Prime': 'Zara Sheikh', 'Zenith-1': 'Lucas Wong'}\n"
          ]
        }
      ]
    },
    {
      "cell_type": "markdown",
      "source": [
        "> 9. If a mission has no crew, print \"Unmanned mission\". If there’s just one crew member, print \"Solo mission\". Otherwise, print \"Crewed mission\". Do this for the first 20 missions."
      ],
      "metadata": {
        "id": "3J_MneC6e-qC"
      }
    },
    {
      "cell_type": "code",
      "source": [
        "print(\"\\n Crew Classification (First 20 Missions):\")\n",
        "for idx, row in data.head(20).iterrows():\n",
        "    if row[\"crew_count\"] == 0:\n",
        "        print(f\"{row['mission_name']}: Unmanned mission\")\n",
        "    elif row[\"crew_count\"] == 1:\n",
        "        print(f\"{row['mission_name']}: Solo mission\")\n",
        "    else:\n",
        "        print(f\"{row['mission_name']}: Crewed mission\")"
      ],
      "metadata": {
        "colab": {
          "base_uri": "https://localhost:8080/",
          "height": 0
        },
        "id": "KLtPphd0gBsr",
        "outputId": "68b61019-47ce-444f-e9e2-038c4df90bcb"
      },
      "execution_count": 22,
      "outputs": [
        {
          "output_type": "stream",
          "name": "stdout",
          "text": [
            "\n",
            " Crew Classification (First 20 Missions):\n",
            "Orion-Alpha: Crewed mission\n",
            "Apollo-X: Crewed mission\n",
            "Voyager-Pulse: Crewed mission\n",
            "Nova-7: Crewed mission\n",
            "Luna-Hope: Crewed mission\n",
            "Starlight-3: Unmanned mission\n",
            "Aurora: Crewed mission\n",
            "Cosmo-9: Crewed mission\n",
            "Gemini-Prime: Solo mission\n",
            "Zenith-1: Crewed mission\n",
            "Atlas: Crewed mission\n",
            "Odyssey: Crewed mission\n",
            "Orion-Beta: Crewed mission\n",
            "Starfire: Crewed mission\n",
            "Comet-Quest: Crewed mission\n",
            "Phoenix-2: Crewed mission\n",
            "Luna-Rise: Crewed mission\n",
            "Solaris: Crewed mission\n",
            "Infinity: Crewed mission\n",
            "Exo-Prime: Solo mission\n"
          ]
        }
      ]
    },
    {
      "cell_type": "markdown",
      "source": [
        "> 10. Using a loop, count how many missions lasted more than 365 days."
      ],
      "metadata": {
        "id": "JxTjJA-rfF9I"
      }
    },
    {
      "cell_type": "code",
      "source": [
        "count_long_missions = 0\n",
        "\n",
        "for duration in data[\"duration_days\"]:\n",
        "    if duration > 365:\n",
        "        count_long_missions += 1\n",
        "\n",
        "print(\" Missions lasting more than 365 days:\", count_long_missions)"
      ],
      "metadata": {
        "colab": {
          "base_uri": "https://localhost:8080/",
          "height": 0
        },
        "id": "VcHcj0z8gS8L",
        "outputId": "ad137066-c273-4029-c69a-ec39cb385f3f"
      },
      "execution_count": 23,
      "outputs": [
        {
          "output_type": "stream",
          "name": "stdout",
          "text": [
            " Missions lasting more than 365 days: 89\n"
          ]
        }
      ]
    },
    {
      "cell_type": "markdown",
      "source": [
        "<p align=\"center\">\n",
        "  <img src=\"https://img.shields.io/badge/Part%20C%3A-Control%20Flow%20%26%20Functions-purple?style=for-the-badge&logo=python&logoColor=white\">\n",
        "</p>\n"
      ],
      "metadata": {
        "id": "6IN6TGtybPLr"
      }
    },
    {
      "cell_type": "markdown",
      "source": [
        "> 11. Write a function mission_success_rate(destination) that returns the percentage of\n",
        "successful missions for a given destination. Test it for \"Moon\", \"Mars\", and \"Jupiter\"."
      ],
      "metadata": {
        "id": "TkP8B60mgtV7"
      }
    },
    {
      "cell_type": "code",
      "source": [
        "def mission_success_rate(destination):\n",
        "    subset = data[data[\"destination\"] == destination]\n",
        "    if len(subset) == 0:\n",
        "        return 0\n",
        "    success_rate = (subset[\"success\"] == True).sum() / len(subset) * 100\n",
        "    return round(success_rate, 2)\n",
        "\n",
        "print(\"Moon Success Rate:\", mission_success_rate(\"Moon\"), \"%\")\n",
        "print(\"Mars Success Rate:\", mission_success_rate(\"Mars\"), \"%\")\n",
        "print(\"Jupiter Success Rate:\", mission_success_rate(\"Jupiter\"), \"%\")"
      ],
      "metadata": {
        "colab": {
          "base_uri": "https://localhost:8080/",
          "height": 0
        },
        "id": "Lf006nanbSXv",
        "outputId": "6c0cd371-6deb-4e4e-b1ab-1526b67e7ea6"
      },
      "execution_count": 24,
      "outputs": [
        {
          "output_type": "stream",
          "name": "stdout",
          "text": [
            "Moon Success Rate: 100.0 %\n",
            "Mars Success Rate: 50.88 %\n",
            "Jupiter Success Rate: 42.86 %\n"
          ]
        }
      ]
    },
    {
      "cell_type": "markdown",
      "source": [
        "> 12. Write a function longest_mission() that returns the mission name and duration of the\n",
        "longest mission."
      ],
      "metadata": {
        "id": "_csZFu-bg3OY"
      }
    },
    {
      "cell_type": "code",
      "source": [
        "def longest_mission():\n",
        "    idx = data[\"duration_days\"].idxmax()\n",
        "    return data.loc[idx, \"mission_name\"], data.loc[idx, \"duration_days\"]\n",
        "print(\"Longest Mission:\", longest_mission())"
      ],
      "metadata": {
        "colab": {
          "base_uri": "https://localhost:8080/",
          "height": 0
        },
        "id": "FDZcDf7lg8yB",
        "outputId": "edc65a05-39d2-4ac8-f102-9444a987b0dd"
      },
      "execution_count": 25,
      "outputs": [
        {
          "output_type": "stream",
          "name": "stdout",
          "text": [
            "Longest Mission: ('Cosmo-9', np.int64(800))\n"
          ]
        }
      ]
    },
    {
      "cell_type": "markdown",
      "source": [
        "> 13. Write a function missions_by_year(year) that returns all missions launched in a given\n",
        "year. Test with 2010."
      ],
      "metadata": {
        "id": "h5HugJG8hHmo"
      }
    },
    {
      "cell_type": "code",
      "source": [
        "def missions_by_year(year):\n",
        "    return data[data[\"year\"] == year][\"mission_name\"]\n",
        "print(\"Missions in 2010: \\n\", missions_by_year(2010))"
      ],
      "metadata": {
        "colab": {
          "base_uri": "https://localhost:8080/",
          "height": 0
        },
        "id": "A2g8wNU8hG08",
        "outputId": "5283f2b3-d203-4c42-9b0d-8a40f6e162c8"
      },
      "execution_count": 28,
      "outputs": [
        {
          "output_type": "stream",
          "name": "stdout",
          "text": [
            "Missions in 2010: \n",
            " 1          Apollo-X\n",
            "21         Apollo-Z\n",
            "52       Orion-Zeta\n",
            "74      Comet-Blaze\n",
            "96       Luna-Shine\n",
            "117       Solaris-6\n",
            "132        Orion-Mu\n",
            "147        Cosmo-16\n",
            "166        Aurora-I\n",
            "189       Zenith-10\n",
            "208    Gemini-Crest\n",
            "219    Exo-Frontier\n",
            "239     Exo-Pioneer\n",
            "261       Apollo-A9\n",
            "275      Phoenix-15\n",
            "289       Zenith-15\n",
            "Name: mission_name, dtype: object\n"
          ]
        }
      ]
    },
    {
      "cell_type": "markdown",
      "source": [
        "> 14. Write a function fuel_check(fuel_level) that returns \"Critical\" if fuel level is less than 20, \"Moderate\" if fuel level is equal to 20 or between 20 and 70, and \"Safe\" if fuel level is greater than or equal to 70. Apply this to the last 50 missions."
      ],
      "metadata": {
        "id": "-T6xFGbqhuOP"
      }
    },
    {
      "cell_type": "code",
      "source": [
        "def fuel_check(fuel_level):\n",
        "    if fuel_level < 20:\n",
        "        return \"Critical\"\n",
        "    elif 20 <= fuel_level < 70:\n",
        "        return \"Moderate\"\n",
        "    else:\n",
        "        return \"Safe\"\n",
        "\n",
        "print(\"Fuel Status (Last 50 Missions):\")\n",
        "for idx, row in data.tail(50).iterrows():\n",
        "    print(f\"{row['mission_name']}: {fuel_check(row['fuel_level'])}\")\n"
      ],
      "metadata": {
        "colab": {
          "base_uri": "https://localhost:8080/",
          "height": 0
        },
        "id": "JQfoDZhNh0ld",
        "outputId": "caee3cef-8f9d-4d46-caed-8df576ac4be8"
      },
      "execution_count": 30,
      "outputs": [
        {
          "output_type": "stream",
          "name": "stdout",
          "text": [
            "Fuel Status (Last 50 Missions):\n",
            "Atlas-XIII: Critical\n",
            "Odyssey-13: Safe\n",
            "Orion-Zeta2: Safe\n",
            "Starfire-13: Safe\n",
            "Comet-Dream: Critical\n",
            "Phoenix-14: Safe\n",
            "Luna-Peak2: Safe\n",
            "Solaris-13: Critical\n",
            "Infinity-13: Safe\n",
            "Exo-Sky: Safe\n",
            "Orion-Tau2: Safe\n",
            "Apollo-A9: Critical\n",
            "Voyager-Rise: Safe\n",
            "Nova-20: Safe\n",
            "Luna-Surge2: Critical\n",
            "Starlight-16: Safe\n",
            "Aurora-N: Safe\n",
            "Cosmo-22: Moderate\n",
            "Gemini-Quest: Safe\n",
            "Zenith-14: Safe\n",
            "Atlas-XIV: Critical\n",
            "Odyssey-14: Moderate\n",
            "Orion-Delta2: Safe\n",
            "Starfire-14: Safe\n",
            "Comet-Edge: Safe\n",
            "Phoenix-15: Critical\n",
            "Luna-Glide: Safe\n",
            "Solaris-14: Safe\n",
            "Infinity-14: Safe\n",
            "Exo-Dawn: Critical\n",
            "Orion-Phi3: Safe\n",
            "Apollo-A10: Safe\n",
            "Voyager-Lite: Critical\n",
            "Nova-21: Safe\n",
            "Luna-Rise2: Safe\n",
            "Starlight-17: Safe\n",
            "Aurora-O: Critical\n",
            "Cosmo-23: Safe\n",
            "Gemini-Orbit: Safe\n",
            "Zenith-15: Critical\n",
            "Atlas-XV: Moderate\n",
            "Odyssey-15: Safe\n",
            "Orion-Theta2: Safe\n",
            "Starfire-15: Safe\n",
            "Comet-Light: Critical\n",
            "Phoenix-16: Safe\n",
            "Luna-Crest2: Safe\n",
            "Solaris-15: Critical\n",
            "Infinity-15: Safe\n",
            "Exo-Solar: Moderate\n"
          ]
        }
      ]
    },
    {
      "cell_type": "markdown",
      "source": [
        "> 15. Write a nested loop to count the number of missions per commander for each destination.\n",
        "Print results like:\n",
        "Moon:\n",
        "Amelia Vega: 1 mission\n",
        "Zara Sheikh: 1 mission\n",
        "Mars:\n",
        "Liam Carter: 2 missions\n",
        "..."
      ],
      "metadata": {
        "id": "IRSHBr_mh_88"
      }
    },
    {
      "cell_type": "code",
      "source": [
        "print(\"Missions per Commander by Destination:\")\n",
        "destinations = data[\"destination\"].unique()\n",
        "\n",
        "for dest in destinations:\n",
        "    print(f\"\\n{dest}:\")\n",
        "    subset = data[data[\"destination\"] == dest]\n",
        "    commanders = subset[\"commander\"].unique()\n",
        "\n",
        "    for cmd in commanders:\n",
        "        count = (subset[\"commander\"] == cmd).sum()\n",
        "        print(f\"  {cmd}: {count} mission(s)\")"
      ],
      "metadata": {
        "colab": {
          "base_uri": "https://localhost:8080/",
          "height": 0
        },
        "id": "PuTbOBTQiCSh",
        "outputId": "704ff923-3f10-4e8b-965b-ab5c3bf784b2"
      },
      "execution_count": 31,
      "outputs": [
        {
          "output_type": "stream",
          "name": "stdout",
          "text": [
            "Missions per Commander by Destination:\n",
            "\n",
            "Moon:\n",
            "  Amelia Vega: 1 mission(s)\n",
            "  Sophia Malik: 1 mission(s)\n",
            "  Isabella Torres: 1 mission(s)\n",
            "  Arjun Patel: 2 mission(s)\n",
            "  Emily Davis: 1 mission(s)\n",
            "  Charlotte Evans: 1 mission(s)\n",
            "  William Chen: 1 mission(s)\n",
            "  Isaac Flores: 1 mission(s)\n",
            "  Aaliyah Shah: 1 mission(s)\n",
            "  Samuel White: 1 mission(s)\n",
            "  Lucas Martin: 1 mission(s)\n",
            "  Mohammed Ali: 1 mission(s)\n",
            "  Maria Rossi: 1 mission(s)\n",
            "  David Lopez: 1 mission(s)\n",
            "  Lara Ahmed: 2 mission(s)\n",
            "  Jack Taylor: 1 mission(s)\n",
            "  Isabella Khan: 1 mission(s)\n",
            "  James Evans: 1 mission(s)\n",
            "  Ella Turner: 1 mission(s)\n",
            "  Ethan Scott: 1 mission(s)\n",
            "  Leila Khan: 1 mission(s)\n",
            "  Liam Clark: 1 mission(s)\n",
            "  Sofia Rahman: 1 mission(s)\n",
            "  Laila Ahmed: 1 mission(s)\n",
            "  Oliver Lewis: 1 mission(s)\n",
            "  Leah Ali: 1 mission(s)\n",
            "  Hannah Davis: 1 mission(s)\n",
            "  Sara Ali: 1 mission(s)\n",
            "  Oliver Brown: 1 mission(s)\n",
            "  Sara Torres: 1 mission(s)\n",
            "  Maya Clarke: 1 mission(s)\n",
            "  Sofia Patel: 1 mission(s)\n",
            "  Zoe Martin: 1 mission(s)\n",
            "  Emily Scott: 1 mission(s)\n",
            "  Aisha Khan: 1 mission(s)\n",
            "  Isabella Smith: 1 mission(s)\n",
            "  Huda Johnson: 1 mission(s)\n",
            "  Ethan White: 1 mission(s)\n",
            "  Liam Wilson: 1 mission(s)\n",
            "  Amira Rahman: 1 mission(s)\n",
            "  Hannah Brown: 1 mission(s)\n",
            "  Aisha White: 1 mission(s)\n",
            "  James Davis: 1 mission(s)\n",
            "  Lara Torres: 1 mission(s)\n",
            "  Noah Brown: 1 mission(s)\n",
            "  Jacob Ali: 1 mission(s)\n",
            "  Adam Carter: 1 mission(s)\n",
            "  David Smith: 1 mission(s)\n",
            "  Ethan Torres: 1 mission(s)\n",
            "  Emma White: 1 mission(s)\n",
            "  Zara Torres: 1 mission(s)\n",
            "  Noah Scott: 2 mission(s)\n",
            "  Leila Ali: 1 mission(s)\n",
            "  Laila Khan: 1 mission(s)\n",
            "  Hassan Ali: 1 mission(s)\n",
            "  Zara Wilson: 1 mission(s)\n",
            "  Emma Carter: 1 mission(s)\n",
            "  Daniel Green: 1 mission(s)\n",
            "  Sara Davis: 1 mission(s)\n",
            "  Emma Lopez: 1 mission(s)\n",
            "  Huda Ali: 1 mission(s)\n",
            "  Leo White: 1 mission(s)\n",
            "  Amira Torres: 1 mission(s)\n",
            "  Sofia Rossi: 1 mission(s)\n",
            "  Hassan Scott: 1 mission(s)\n",
            "  Leo Khan: 1 mission(s)\n",
            "  Amir Johnson: 1 mission(s)\n",
            "  Huda Lopez: 1 mission(s)\n",
            "  Sofia Walker: 1 mission(s)\n",
            "  Leila Green: 1 mission(s)\n",
            "  Leo Torres: 1 mission(s)\n",
            "  Charlotte Green: 1 mission(s)\n",
            "  Liam Brown: 1 mission(s)\n",
            "  Amira Ahmed: 1 mission(s)\n",
            "  Noah Smith: 1 mission(s)\n",
            "  Ethan Johnson: 1 mission(s)\n",
            "  Zara Brown: 1 mission(s)\n",
            "  Lara Smith: 1 mission(s)\n",
            "  David Brown: 1 mission(s)\n",
            "  Liam Torres: 1 mission(s)\n",
            "  Leo Scott: 1 mission(s)\n",
            "  Jacob Green: 1 mission(s)\n",
            "\n",
            "Mars:\n",
            "  Liam Carter: 1 mission(s)\n",
            "  Ethan Kim: 1 mission(s)\n",
            "  Lucas Wong: 1 mission(s)\n",
            "  Oliver Brown: 1 mission(s)\n",
            "  James Park: 1 mission(s)\n",
            "  Alexander Green: 1 mission(s)\n",
            "  Nadia Ali: 1 mission(s)\n",
            "  Elena Petrova: 1 mission(s)\n",
            "  Daniel Carter: 1 mission(s)\n",
            "  Leah Wright: 1 mission(s)\n",
            "  Zara Ali: 2 mission(s)\n",
            "  Charlotte King: 1 mission(s)\n",
            "  Mason Ali: 1 mission(s)\n",
            "  Huda Rahman: 1 mission(s)\n",
            "  Mohammed Saleh: 1 mission(s)\n",
            "  Zoe Martin: 1 mission(s)\n",
            "  Maya Lopez: 1 mission(s)\n",
            "  Ethan Green: 1 mission(s)\n",
            "  Ali Hassan: 1 mission(s)\n",
            "  Daniel Brown: 1 mission(s)\n",
            "  William Green: 1 mission(s)\n",
            "  Emma Walker: 1 mission(s)\n",
            "  Liam Khan: 1 mission(s)\n",
            "  Isla Rahman: 1 mission(s)\n",
            "  Emma Wilson: 2 mission(s)\n",
            "  Liam Rossi: 1 mission(s)\n",
            "  Daniel Walker: 1 mission(s)\n",
            "  Mason Clark: 1 mission(s)\n",
            "  Leah Scott: 1 mission(s)\n",
            "  Ethan Lopez: 1 mission(s)\n",
            "  Daniel Thompson: 1 mission(s)\n",
            "  Maya Johnson: 1 mission(s)\n",
            "  Lucas Walker: 1 mission(s)\n",
            "  Emma Green: 1 mission(s)\n",
            "  Zara Johnson: 1 mission(s)\n",
            "  Laila Brown: 1 mission(s)\n",
            "  Liam Ali: 1 mission(s)\n",
            "  James White: 1 mission(s)\n",
            "  David Kim: 1 mission(s)\n",
            "  Noah Patel: 1 mission(s)\n",
            "  Mason Lee: 1 mission(s)\n",
            "  Adam Brown: 1 mission(s)\n",
            "  Charlotte Green: 1 mission(s)\n",
            "  Jacob Taylor: 1 mission(s)\n",
            "  Zara Smith: 1 mission(s)\n",
            "  Emma Patel: 2 mission(s)\n",
            "  Charlotte Brown: 2 mission(s)\n",
            "  Liam Torres: 1 mission(s)\n",
            "  Zara Brown: 1 mission(s)\n",
            "  Zoe Smith: 1 mission(s)\n",
            "  Sara Brown: 1 mission(s)\n",
            "  Jacob Wilson: 1 mission(s)\n",
            "  Charlotte Torres: 1 mission(s)\n",
            "\n",
            "ISS:\n",
            "  Noah Hassan: 1 mission(s)\n",
            "  Zara Sheikh: 1 mission(s)\n",
            "  Adam Rossi: 1 mission(s)\n",
            "  Jacob Thompson: 1 mission(s)\n",
            "  Sofia Hernandez: 1 mission(s)\n",
            "  Amy Turner: 1 mission(s)\n",
            "  Henry Scott: 1 mission(s)\n",
            "  Sophia Carter: 1 mission(s)\n",
            "  Anna Lewis: 1 mission(s)\n",
            "  Aisha Malik: 1 mission(s)\n",
            "  Emma Scott: 1 mission(s)\n",
            "  Maya Scott: 1 mission(s)\n",
            "  Daniel Smith: 1 mission(s)\n",
            "  David Chen: 1 mission(s)\n",
            "  Daniel Green: 1 mission(s)\n",
            "  James Smith: 1 mission(s)\n",
            "  Ayesha Ali: 1 mission(s)\n",
            "  Amir Rahman: 1 mission(s)\n",
            "  Noah White: 1 mission(s)\n",
            "  Charlotte Lee: 1 mission(s)\n",
            "  Sofia Walker: 1 mission(s)\n",
            "  Emily Green: 1 mission(s)\n",
            "  Liam Scott: 1 mission(s)\n",
            "  Zoe Carter: 1 mission(s)\n",
            "  Ethan Johnson: 1 mission(s)\n",
            "  Emma Brown: 1 mission(s)\n",
            "  Leo Johnson: 1 mission(s)\n",
            "  Amir Brown: 1 mission(s)\n",
            "  Charlotte Johnson: 1 mission(s)\n",
            "  Sara Malik: 1 mission(s)\n",
            "  Lara Rossi: 1 mission(s)\n",
            "  Sofia Ahmed: 1 mission(s)\n",
            "  James Wilson: 1 mission(s)\n",
            "  Lara Ahmed: 1 mission(s)\n",
            "  Liam Brown: 1 mission(s)\n",
            "  Maya Torres: 1 mission(s)\n",
            "  David Martin: 1 mission(s)\n",
            "  Daniel Brown: 1 mission(s)\n",
            "  David Ali: 1 mission(s)\n",
            "  Huda Torres: 1 mission(s)\n",
            "  Leila Torres: 1 mission(s)\n",
            "  Ethan Brown: 1 mission(s)\n",
            "  Hassan Ali: 1 mission(s)\n",
            "\n",
            "Jupiter:\n",
            "  Ayesha Rahman: 1 mission(s)\n",
            "  Maya Iqbal: 1 mission(s)\n",
            "  Sara Ahmed: 1 mission(s)\n",
            "  Leila Noor: 1 mission(s)\n",
            "  Joshua Lee: 1 mission(s)\n",
            "  Aaron Walker: 1 mission(s)\n",
            "  Isla Murphy: 1 mission(s)\n",
            "  Leo Edwards: 1 mission(s)\n",
            "  Olivia Johnson: 1 mission(s)\n",
            "  Liam Ali: 1 mission(s)\n",
            "  Daniel Smith: 1 mission(s)\n",
            "  James Carter: 1 mission(s)\n",
            "  Jack Wilson: 1 mission(s)\n",
            "  Jacob Johnson: 1 mission(s)\n",
            "  Sophia Ahmed: 1 mission(s)\n",
            "  Hassan Ali: 1 mission(s)\n",
            "  Leo Thompson: 2 mission(s)\n",
            "  Jacob Carter: 1 mission(s)\n",
            "  Joshua Brown: 1 mission(s)\n",
            "  Daniel Kim: 1 mission(s)\n",
            "  George Martin: 1 mission(s)\n",
            "  Adam Carter: 1 mission(s)\n",
            "  Ethan King: 1 mission(s)\n",
            "  Huda Brown: 1 mission(s)\n",
            "  Aisha Khan: 1 mission(s)\n",
            "  Charlotte Lee: 1 mission(s)\n",
            "  Maya Carter: 1 mission(s)\n",
            "  Sofia Walker: 1 mission(s)\n",
            "  Hassan Khan: 1 mission(s)\n",
            "  Olivia Brown: 1 mission(s)\n",
            "  Ethan Martin: 1 mission(s)\n",
            "  Daniel Brown: 1 mission(s)\n",
            "  David Ali: 1 mission(s)\n",
            "  George White: 1 mission(s)\n",
            "  Emma Green: 1 mission(s)\n",
            "  Emily Torres: 1 mission(s)\n",
            "  Emma Johnson: 1 mission(s)\n",
            "  Zara Wilson: 1 mission(s)\n",
            "  Sara Green: 1 mission(s)\n",
            "  Noah Green: 1 mission(s)\n",
            "  Zoe Martin: 1 mission(s)\n",
            "\n",
            "Saturn:\n",
            "  Daniel Okoye: 1 mission(s)\n",
            "  Idris Khan: 1 mission(s)\n",
            "  Grace Wilson: 1 mission(s)\n",
            "  Ryan Cooper: 1 mission(s)\n",
            "  Emma Clark: 1 mission(s)\n",
            "  George Baker: 1 mission(s)\n",
            "  Omar Hassan: 1 mission(s)\n",
            "  William Brown: 1 mission(s)\n",
            "  Sarah White: 1 mission(s)\n",
            "  Charlotte Ali: 1 mission(s)\n",
            "  Zara Rahman: 1 mission(s)\n",
            "  Sophia Ali: 1 mission(s)\n",
            "  Noah White: 1 mission(s)\n",
            "  Charlotte Davis: 1 mission(s)\n",
            "  Eva Johnson: 1 mission(s)\n",
            "  William Green: 1 mission(s)\n",
            "  Jacob Davis: 2 mission(s)\n",
            "  Sara Ali: 1 mission(s)\n",
            "  Jacob Clark: 1 mission(s)\n",
            "  Daniel Scott: 1 mission(s)\n",
            "  Liam Torres: 1 mission(s)\n",
            "  Sara Scott: 1 mission(s)\n",
            "  Lara Ahmed: 1 mission(s)\n",
            "  Ethan White: 1 mission(s)\n",
            "  Jacob Scott: 1 mission(s)\n",
            "  Zoe Johnson: 1 mission(s)\n",
            "  William Chen: 1 mission(s)\n",
            "  Charlotte King: 1 mission(s)\n",
            "  Daniel Lee: 1 mission(s)\n",
            "  Liam White: 1 mission(s)\n",
            "  Jacob White: 1 mission(s)\n",
            "  David Scott: 1 mission(s)\n",
            "  Amira Scott: 1 mission(s)\n",
            "  Sara Brown: 1 mission(s)\n",
            "\n",
            "Venus:\n",
            "  Hannah Clarke: 1 mission(s)\n",
            "  Lily Robinson: 1 mission(s)\n",
            "  Olivia Khan: 1 mission(s)\n",
            "  Ethan Brown: 3 mission(s)\n",
            "  Amira Saleh: 1 mission(s)\n",
            "  Jacob Robinson: 1 mission(s)\n",
            "  Thomas Brown: 1 mission(s)\n",
            "  Ryan Cooper: 1 mission(s)\n",
            "  Isabella White: 1 mission(s)\n",
            "  Leo Carter: 1 mission(s)\n",
            "  Zara Malik: 1 mission(s)\n",
            "  Lara Scott: 1 mission(s)\n",
            "  George Lopez: 1 mission(s)\n",
            "  Laila Green: 1 mission(s)\n",
            "  Ethan Torres: 1 mission(s)\n",
            "  Lara Ahmed: 1 mission(s)\n",
            "  Zara Brown: 1 mission(s)\n",
            "  Zara Martin: 1 mission(s)\n",
            "  Amelia Ali: 1 mission(s)\n",
            "  Isaac Lee: 1 mission(s)\n",
            "  Sofia White: 2 mission(s)\n",
            "  Ethan Walker: 1 mission(s)\n",
            "  Daniel Green: 1 mission(s)\n",
            "  Sara Martin: 1 mission(s)\n",
            "  Daniel Torres: 1 mission(s)\n",
            "  Amira Hassan: 1 mission(s)\n",
            "  Laila Torres: 1 mission(s)\n",
            "  Noah Scott: 1 mission(s)\n",
            "  Ethan Johnson: 1 mission(s)\n",
            "  Zoe Carter: 1 mission(s)\n",
            "  Sara Smith: 1 mission(s)\n",
            "  Ethan White: 1 mission(s)\n",
            "  George Scott: 1 mission(s)\n",
            "  Daniel Scott: 1 mission(s)\n",
            "  Emma Davis: 1 mission(s)\n"
          ]
        }
      ]
    },
    {
      "cell_type": "markdown",
      "source": [
        "<p align=\"center\">\n",
        "  <img src=\"https://img.shields.io/badge/Part%20D%3A-Exception%20Handling%20%26%20Robust%20Code-red?style=for-the-badge&logo=python&logoColor=white\">\n",
        "</p>\n"
      ],
      "metadata": {
        "id": "P2WjQC8lbbVn"
      }
    },
    {
      "cell_type": "markdown",
      "source": [
        ">16. Write a try-except block to safely convert user input into an integer for selecting a mission ID. If invalid, print \"Invalid input. Please enter a number.\""
      ],
      "metadata": {
        "id": "hlK9sEqxiWI3"
      }
    },
    {
      "cell_type": "code",
      "source": [
        "try:\n",
        "    mission_id_input = int(input(\"Enter a Mission ID: \"))\n",
        "except ValueError:\n",
        "    print(\"Invalid input. Please enter a number.\")"
      ],
      "metadata": {
        "colab": {
          "base_uri": "https://localhost:8080/",
          "height": 0
        },
        "id": "VNP0bPcPitrs",
        "outputId": "d18633f5-802b-4bd2-9398-3501266bdc00"
      },
      "execution_count": 32,
      "outputs": [
        {
          "output_type": "stream",
          "name": "stdout",
          "text": [
            "Enter a Mission ID: a\n",
            "Invalid input. Please enter a number.\n"
          ]
        }
      ]
    },
    {
      "cell_type": "markdown",
      "source": [
        "> 17. Paste your code for Q13 (missions_by_year) and modify it to handle the case when no missions exist for a year. Return \"No missions found.\""
      ],
      "metadata": {
        "id": "ze2uN_mtia3j"
      }
    },
    {
      "cell_type": "code",
      "source": [
        "def missions_by_year(year):\n",
        "    missions = data[data[\"year\"] == year][\"mission_name\"]\n",
        "    if len(missions) == 0:\n",
        "        return \"No missions found.\"\n",
        "    return missions\n",
        "\n",
        "print(\"Missions in 1800:\", missions_by_year(1800))\n"
      ],
      "metadata": {
        "colab": {
          "base_uri": "https://localhost:8080/",
          "height": 0
        },
        "id": "OZKBnWnjizDA",
        "outputId": "d83bf88e-8470-4ab2-9330-07dbd4ff0e78"
      },
      "execution_count": 33,
      "outputs": [
        {
          "output_type": "stream",
          "name": "stdout",
          "text": [
            "Missions in 1800: No missions found.\n"
          ]
        }
      ]
    },
    {
      "cell_type": "markdown",
      "source": [
        "> 18. Write a function get_mission(mission_id) that returns mission details if ID exists or raises a ValueError if mission_id is not found. Handle it with try-except."
      ],
      "metadata": {
        "id": "uogaXvv9ie1V"
      }
    },
    {
      "cell_type": "code",
      "source": [
        "def get_mission(mission_id):\n",
        "    if mission_id in data[\"mission_id\"].values:\n",
        "        return data[data[\"mission_id\"] == mission_id].to_dict(\"records\")[0]\n",
        "    else:\n",
        "        raise ValueError(\"Mission ID not found.\")\n",
        "try:\n",
        "    mission_details = get_mission(5)\n",
        "    print(\"Mission Details:\", mission_details)\n",
        "except ValueError as e:\n",
        "    print(e)"
      ],
      "metadata": {
        "colab": {
          "base_uri": "https://localhost:8080/",
          "height": 0
        },
        "id": "SQKAbS_BjWqn",
        "outputId": "5d5bfb1a-4838-4dd9-b9f4-e8c435e40631"
      },
      "execution_count": 36,
      "outputs": [
        {
          "output_type": "stream",
          "name": "stdout",
          "text": [
            "Mission Details: {'mission_id': 5, 'mission_name': 'Luna-Hope', 'crew_count': 2, 'destination': 'Moon', 'duration_days': 14, 'success': True, 'fuel_level': 65.8, 'commander': 'Sophia Malik', 'year': 2012}\n"
          ]
        }
      ]
    },
    {
      "cell_type": "markdown",
      "source": [
        "> 19. Ask user for a mission ID, and if input is not a number, print \"Please enter digits\n",
        "only.\" If the mission itself does not exist at all, print \"Mission not found.\""
      ],
      "metadata": {
        "id": "fGIVzTgWin0f"
      }
    },
    {
      "cell_type": "code",
      "source": [
        "user_input = input(\"\\nEnter Mission ID: \")\n",
        "try:\n",
        "    mission_id = int(user_input)\n",
        "    if mission_id in data[\"mission_id\"].values:\n",
        "        details = data[data[\"mission_id\"] == mission_id].to_dict(\"records\")[0]\n",
        "        print(\"Mission Found:\", details)\n",
        "    else:\n",
        "        print(\"Mission not found.\")\n",
        "except ValueError:\n",
        "    print(\"Please enter digits only.\")\n",
        ""
      ],
      "metadata": {
        "colab": {
          "base_uri": "https://localhost:8080/",
          "height": 0
        },
        "id": "-BtTd1DTjusu",
        "outputId": "3e56d3d3-9f08-4139-d243-e69cf09b49dc"
      },
      "execution_count": 40,
      "outputs": [
        {
          "output_type": "stream",
          "name": "stdout",
          "text": [
            "\n",
            "Enter Mission ID: b\n",
            "Please enter digits only.\n"
          ]
        }
      ]
    },
    {
      "cell_type": "markdown",
      "source": [
        "> 20. Paste your code for Q19 and use finally to print \"Mission lookup complete.\" after it is\n",
        "executed, no matter what happens."
      ],
      "metadata": {
        "id": "FWNT4Emgiqkm"
      }
    },
    {
      "cell_type": "code",
      "source": [
        "user_input = input(\"\\nEnter Mission ID: \")\n",
        "try:\n",
        "    mission_id = int(user_input)\n",
        "    if mission_id in data[\"mission_id\"].values:\n",
        "        details = data[data[\"mission_id\"] == mission_id].to_dict(\"records\")[0]\n",
        "        print(\"Mission Found:\", details)\n",
        "    else:\n",
        "        print(\"Mission not found.\")\n",
        "except ValueError:\n",
        "    print(\"Please enter digits only.\")\n",
        "finally:\n",
        "    print(\"Mission lookup complete.\")"
      ],
      "metadata": {
        "colab": {
          "base_uri": "https://localhost:8080/",
          "height": 0
        },
        "id": "fhsAhQESbcci",
        "outputId": "b10fe1d0-a3cd-441a-bcab-c65d98a89a27"
      },
      "execution_count": 41,
      "outputs": [
        {
          "output_type": "stream",
          "name": "stdout",
          "text": [
            "\n",
            "Enter Mission ID: 1900\n",
            "Mission not found.\n",
            "Mission lookup complete.\n"
          ]
        }
      ]
    }
  ]
}